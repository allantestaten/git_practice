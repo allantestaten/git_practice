{
 "cells": [
  {
   "cell_type": "markdown",
   "id": "bedbaa43",
   "metadata": {},
   "source": [
    "List vs array vs series vs dataframe "
   ]
  },
  {
   "cell_type": "raw",
   "id": "13e35439",
   "metadata": {},
   "source": [
    "Array - is a list with functionality of numpy in it"
   ]
  },
  {
   "cell_type": "raw",
   "id": "9aaae334",
   "metadata": {},
   "source": [
    "Methods, attributes, Function, Variables "
   ]
  },
  {
   "cell_type": "raw",
   "id": "276dfe63",
   "metadata": {},
   "source": [
    "Functions are methods that live on arrays \n",
    "variables are attributes that live on objects \n",
    "methods can take arguements \n",
    "attribute holds information but does not have instructions \n",
    "methods are .max .value_counts, etc.. \n",
    "methods and functions are verbs \n",
    "variables are nouns \n",
    "attributes are adjectives \n",
    "object contain information can do something"
   ]
  },
  {
   "cell_type": "raw",
   "id": "3b8de638",
   "metadata": {},
   "source": [
    "series is a piece of dataframe. column of dataframe is an attirbute. has index information "
   ]
  },
  {
   "cell_type": "markdown",
   "id": "8f6c4654",
   "metadata": {},
   "source": [
    "Dictionary vs List \n",
    "index list using numbers ....list[0]\n",
    "dictionary name['key']\n",
    "\n",
    "getting info out of dictionary within dictionary \n",
    "dictionary name['key']['elementNAME']\n",
    "\n",
    "can't retrieve information from a dictionary in the same way as a dataframe \n",
    "dataframe can do df.column name but dictionary cannot. Dictionary has to loop through \n",
    "\n",
    "call function on list \n",
    "function name(list name)\n",
    "\n",
    "looping through dictionary. \n",
    "1. get to location where information is\n",
    "2. Is there information to retrieve?\n",
    "\n",
    "\n",
    "Biggest takeaway is know what type of data you are working with, series, dataframe, array, list, string \n",
    "breakdown problem into small steps and print each step to confirm result \n",
    "when counting variable for sum total, it needs to be placed outside of loop to prevent the value from being reset within loop "
   ]
  },
  {
   "cell_type": "markdown",
   "id": "9d50cc27",
   "metadata": {},
   "source": [
    "# Functions in pandas\n"
   ]
  },
  {
   "cell_type": "code",
   "execution_count": 4,
   "id": "8b472eab",
   "metadata": {},
   "outputs": [],
   "source": [
    "def iterate (n):\n",
    "    return n + 1"
   ]
  },
  {
   "cell_type": "code",
   "execution_count": 5,
   "id": "e5882537",
   "metadata": {},
   "outputs": [
    {
     "data": {
      "text/plain": [
       "7"
      ]
     },
     "execution_count": 5,
     "metadata": {},
     "output_type": "execute_result"
    }
   ],
   "source": [
    "iterate(6)"
   ]
  },
  {
   "cell_type": "markdown",
   "id": "0ce40c69",
   "metadata": {},
   "source": [
    "Create function then give function information. \n",
    "Always include variable of function within function "
   ]
  },
  {
   "cell_type": "markdown",
   "id": "0b606b84",
   "metadata": {},
   "source": [
    "# Filtering data in pandas"
   ]
  },
  {
   "cell_type": "markdown",
   "id": "6de0cc54",
   "metadata": {},
   "source": [
    "grab column out of data frame \n",
    "database name. column name \n",
    "\n",
    "specific info from column \n",
    "database name. column >= (operator) 5 \n",
    "boolean mask = database name[database name. column >= 5], gives true or false values \n",
    "\n",
    "python: and is and \n",
    "\n",
    "pandas: and is & \n",
    "\n",
    "dataframe[dataframe.column name > 5) & (datframe.column == 'string name')]\n",
    "dataframe[(df.tip > 5) | (dataframe.column == 'string name')]\n",
    "\n",
    "when comfortable begin writing code in other ways so you can read other code better"
   ]
  },
  {
   "cell_type": "code",
   "execution_count": null,
   "id": "72608aba",
   "metadata": {},
   "outputs": [],
   "source": [
    "when using reserved word in python you can use ['string'] instead of .column name \n",
    "mpg['class']"
   ]
  }
 ],
 "metadata": {
  "kernelspec": {
   "display_name": "Python 3 (ipykernel)",
   "language": "python",
   "name": "python3"
  },
  "language_info": {
   "codemirror_mode": {
    "name": "ipython",
    "version": 3
   },
   "file_extension": ".py",
   "mimetype": "text/x-python",
   "name": "python",
   "nbconvert_exporter": "python",
   "pygments_lexer": "ipython3",
   "version": "3.9.12"
  }
 },
 "nbformat": 4,
 "nbformat_minor": 5
}
