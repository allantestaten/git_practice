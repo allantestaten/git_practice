{
 "cells": [
  {
   "cell_type": "code",
   "execution_count": null,
   "id": "74f58ac4",
   "metadata": {},
   "outputs": [],
   "source": [
    "import students\n",
    "import pandas as pd\n",
    "import numpy as np\n",
    "import json"
   ]
  },
  {
   "cell_type": "code",
   "execution_count": null,
   "id": "9a0de04e",
   "metadata": {},
   "outputs": [],
   "source": [
    "students"
   ]
  },
  {
   "cell_type": "code",
   "execution_count": null,
   "id": "0dc29711",
   "metadata": {},
   "outputs": [],
   "source": [
    "student = json.loads(students)\n",
    "student"
   ]
  },
  {
   "cell_type": "markdown",
   "id": "ef8dba27",
   "metadata": {},
   "source": [
    "20 Python Data Structure Manipulation Exercises\n",
    "The following questions reference the students data structure below. Write the python code to answer the following questions:\n",
    "\n",
    "How many students are there?\n",
    "How many students prefer light coffee? For each type of coffee roast?\n",
    "How many types of each pet are there?\n",
    "How many grades does each student have? Do they all have the same number of grades?\n",
    "What is each student's grade average?\n",
    "How many pets does each student have?\n",
    "How many students are in web development? data science?\n",
    "What is the average number of pets for students in web development?\n",
    "What is the average pet age for students in data science?\n",
    "What is most frequent coffee preference for data science students?\n",
    "What is the least frequent coffee preference for web development students?\n",
    "What is the average grade for students with at least 2 pets?\n",
    "How many students have 3 pets?\n",
    "What is the average grade for students with 0 pets?\n",
    "What is the average grade for web development students? data science students?\n",
    "What is the average grade range (i.e. highest grade - lowest grade) for dark coffee drinkers?\n",
    "What is the average number of pets for medium coffee drinkers?\n",
    "What is the most common type of pet for web development students?\n",
    "What is the average name length?\n",
    "What is the highest pet age for light coffee drinkers?"
   ]
  },
  {
   "cell_type": "markdown",
   "id": "cd4dbfc9",
   "metadata": {},
   "source": [
    "How many students are there? "
   ]
  },
  {
   "cell_type": "code",
   "execution_count": null,
   "id": "d19c3754",
   "metadata": {},
   "outputs": [],
   "source": [
    "How many students prefer light coffee? "
   ]
  },
  {
   "cell_type": "code",
   "execution_count": null,
   "id": "0a98e5b5",
   "metadata": {},
   "outputs": [],
   "source": [
    "For each type of coffee roast?"
   ]
  },
  {
   "cell_type": "code",
   "execution_count": null,
   "id": "900b98de",
   "metadata": {},
   "outputs": [],
   "source": [
    "For each type of coffee roast? How many types of each pet are there? How many grades does each student have? Do they all have the same number of grades? What is each student's grade average? How many pets does each student have? How many students are in web development? data science? What is the average number of pets for students in web development? What is the average pet age for students in data science? What is most frequent coffee preference for data science students? What is the least frequent coffee preference for web development students? What is the average grade for students with at least 2 pets? How many students have 3 pets? What is the average grade for students with 0 pets? What is the average grade for web development students? data science students? What is the average grade range (i.e. highest grade - lowest grade) for dark coffee drinkers? What is the average number of pets for medium coffee drinkers? What is the most common type of pet for web development students? What is the average name length? What is the highest pet age for light coffee drinkers?"
   ]
  }
 ],
 "metadata": {
  "kernelspec": {
   "display_name": "Python 3 (ipykernel)",
   "language": "python",
   "name": "python3"
  },
  "language_info": {
   "codemirror_mode": {
    "name": "ipython",
    "version": 3
   },
   "file_extension": ".py",
   "mimetype": "text/x-python",
   "name": "python",
   "nbconvert_exporter": "python",
   "pygments_lexer": "ipython3",
   "version": "3.9.12"
  }
 },
 "nbformat": 4,
 "nbformat_minor": 5
}
