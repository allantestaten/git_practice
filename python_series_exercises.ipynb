{
 "cells": [
  {
   "cell_type": "markdown",
   "id": "a8525fb0",
   "metadata": {},
   "source": [
    "\n",
    "\n"
   ]
  },
  {
   "cell_type": "code",
   "execution_count": 1,
   "id": "3581043c",
   "metadata": {},
   "outputs": [],
   "source": [
    "import numpy as np\n",
    "import pandas as pd\n",
    "\n",
    "import matplotlib.pyplot as plt\n",
    "\n",
    "fruits = [\"kiwi\", \"mango\", \"strawberry\", \"pineapple\", \"gala apple\", \"honeycrisp apple\", \"tomato\", \"watermelon\", \"honeydew\", \"kiwi\", \"kiwi\", \"kiwi\", \"mango\", \"blueberry\", \"blackberry\", \"gooseberry\", \"papaya\"]\n"
   ]
  },
  {
   "cell_type": "code",
   "execution_count": 2,
   "id": "dc252a3a",
   "metadata": {},
   "outputs": [
    {
     "data": {
      "text/plain": [
       "list"
      ]
     },
     "execution_count": 2,
     "metadata": {},
     "output_type": "execute_result"
    }
   ],
   "source": [
    "type(fruits)"
   ]
  },
  {
   "cell_type": "markdown",
   "id": "34cc968f",
   "metadata": {},
   "source": [
    "1. Determine the number of elements in fruits."
   ]
  },
  {
   "cell_type": "code",
   "execution_count": 3,
   "id": "d8b29e47",
   "metadata": {},
   "outputs": [
    {
     "data": {
      "text/plain": [
       "17"
      ]
     },
     "execution_count": 3,
     "metadata": {},
     "output_type": "execute_result"
    }
   ],
   "source": [
    "len(fruits)"
   ]
  },
  {
   "cell_type": "markdown",
   "id": "040d3103",
   "metadata": {},
   "source": [
    "Use pandas to create a Series named fruits from the following list:"
   ]
  },
  {
   "cell_type": "code",
   "execution_count": 4,
   "id": "a6429448",
   "metadata": {},
   "outputs": [],
   "source": [
    "fruits_series = pd.Series(fruits)"
   ]
  },
  {
   "cell_type": "code",
   "execution_count": 5,
   "id": "76d31fcc",
   "metadata": {},
   "outputs": [
    {
     "data": {
      "text/plain": [
       "pandas.core.series.Series"
      ]
     },
     "execution_count": 5,
     "metadata": {},
     "output_type": "execute_result"
    }
   ],
   "source": [
    "type(fruits_series)"
   ]
  },
  {
   "cell_type": "markdown",
   "id": "c6789b2a",
   "metadata": {},
   "source": [
    "2. Output only the index from fruits."
   ]
  },
  {
   "cell_type": "code",
   "execution_count": 6,
   "id": "9e0e96de",
   "metadata": {
    "scrolled": true
   },
   "outputs": [
    {
     "data": {
      "text/plain": [
       "RangeIndex(start=0, stop=17, step=1)"
      ]
     },
     "execution_count": 6,
     "metadata": {},
     "output_type": "execute_result"
    }
   ],
   "source": [
    "fruits_series.index"
   ]
  },
  {
   "cell_type": "markdown",
   "id": "bc932ca0",
   "metadata": {},
   "source": [
    "3. Output only the values from fruits."
   ]
  },
  {
   "cell_type": "code",
   "execution_count": 7,
   "id": "5f30d301",
   "metadata": {},
   "outputs": [
    {
     "data": {
      "text/plain": [
       "array(['kiwi', 'mango', 'strawberry', 'pineapple', 'gala apple',\n",
       "       'honeycrisp apple', 'tomato', 'watermelon', 'honeydew', 'kiwi',\n",
       "       'kiwi', 'kiwi', 'mango', 'blueberry', 'blackberry', 'gooseberry',\n",
       "       'papaya'], dtype=object)"
      ]
     },
     "execution_count": 7,
     "metadata": {},
     "output_type": "execute_result"
    }
   ],
   "source": [
    "fruits_series.values"
   ]
  },
  {
   "cell_type": "markdown",
   "id": "fa399e10",
   "metadata": {},
   "source": [
    "4. Confirm the data type of the values in fruits."
   ]
  },
  {
   "cell_type": "code",
   "execution_count": 8,
   "id": "04fc592a",
   "metadata": {},
   "outputs": [
    {
     "data": {
      "text/plain": [
       "dtype('O')"
      ]
     },
     "execution_count": 8,
     "metadata": {},
     "output_type": "execute_result"
    }
   ],
   "source": [
    "fruits_series.dtype"
   ]
  },
  {
   "cell_type": "markdown",
   "id": "61bb8796",
   "metadata": {},
   "source": [
    "5. Output only the first five values from fruits. Output the last three values. Output two random values from fruits."
   ]
  },
  {
   "cell_type": "code",
   "execution_count": 9,
   "id": "cb3dd657",
   "metadata": {
    "scrolled": true
   },
   "outputs": [
    {
     "data": {
      "text/plain": [
       "(0          kiwi\n",
       " 1         mango\n",
       " 2    strawberry\n",
       " 3     pineapple\n",
       " 4    gala apple\n",
       " dtype: object,\n",
       " 14    blackberry\n",
       " 15    gooseberry\n",
       " 16        papaya\n",
       " dtype: object,\n",
       " 15    gooseberry\n",
       " 13     blueberry\n",
       " dtype: object)"
      ]
     },
     "execution_count": 9,
     "metadata": {},
     "output_type": "execute_result"
    }
   ],
   "source": [
    "fruits_series.head(5), fruits_series.tail(3), fruits_series.sample(2)"
   ]
  },
  {
   "cell_type": "markdown",
   "id": "c6018666",
   "metadata": {},
   "source": [
    "6. Run the .describe() on fruits to see what information it returns when called on a Series with string values."
   ]
  },
  {
   "cell_type": "code",
   "execution_count": 10,
   "id": "c2dc4dc3",
   "metadata": {},
   "outputs": [
    {
     "data": {
      "text/plain": [
       "count       17\n",
       "unique      13\n",
       "top       kiwi\n",
       "freq         4\n",
       "dtype: object"
      ]
     },
     "execution_count": 10,
     "metadata": {},
     "output_type": "execute_result"
    }
   ],
   "source": [
    "fruits_series.describe()"
   ]
  },
  {
   "cell_type": "markdown",
   "id": "46b3436e",
   "metadata": {},
   "source": [
    "7. Run the code necessary to produce only the unique string values from fruits.\n",
    "\n"
   ]
  },
  {
   "cell_type": "code",
   "execution_count": 11,
   "id": "16b00e05",
   "metadata": {},
   "outputs": [
    {
     "data": {
      "text/plain": [
       "array(['kiwi', 'mango', 'strawberry', 'pineapple', 'gala apple',\n",
       "       'honeycrisp apple', 'tomato', 'watermelon', 'honeydew',\n",
       "       'blueberry', 'blackberry', 'gooseberry', 'papaya'], dtype=object)"
      ]
     },
     "execution_count": 11,
     "metadata": {},
     "output_type": "execute_result"
    }
   ],
   "source": [
    "fruits_series.unique()"
   ]
  },
  {
   "cell_type": "markdown",
   "id": "745cc965",
   "metadata": {},
   "source": [
    "8. Determine how many times each unique string value occurs in fruits.\n",
    "\n"
   ]
  },
  {
   "cell_type": "code",
   "execution_count": 12,
   "id": "f0e1104a",
   "metadata": {},
   "outputs": [
    {
     "data": {
      "text/plain": [
       "13"
      ]
     },
     "execution_count": 12,
     "metadata": {},
     "output_type": "execute_result"
    }
   ],
   "source": [
    "fruits_series.nunique()"
   ]
  },
  {
   "cell_type": "markdown",
   "id": "56bee475",
   "metadata": {},
   "source": [
    "9. Determine the string value that occurs most frequently in fruits."
   ]
  },
  {
   "cell_type": "code",
   "execution_count": 13,
   "id": "71c09153",
   "metadata": {},
   "outputs": [
    {
     "data": {
      "text/plain": [
       "0    kiwi\n",
       "dtype: object"
      ]
     },
     "execution_count": 13,
     "metadata": {},
     "output_type": "execute_result"
    }
   ],
   "source": [
    "fruits_series.mode()"
   ]
  },
  {
   "cell_type": "markdown",
   "id": "d6a01986",
   "metadata": {},
   "source": [
    "10. Determine the string value that occurs least frequently in fruits.\n",
    "\n"
   ]
  },
  {
   "cell_type": "code",
   "execution_count": 14,
   "id": "79e20cc0",
   "metadata": {},
   "outputs": [
    {
     "data": {
      "text/plain": [
       "strawberry          1\n",
       "pineapple           1\n",
       "gala apple          1\n",
       "honeycrisp apple    1\n",
       "tomato              1\n",
       "watermelon          1\n",
       "honeydew            1\n",
       "blueberry           1\n",
       "blackberry          1\n",
       "gooseberry          1\n",
       "papaya              1\n",
       "dtype: int64"
      ]
     },
     "execution_count": 14,
     "metadata": {},
     "output_type": "execute_result"
    }
   ],
   "source": [
    "fruits_series.value_counts().nsmallest(keep='all')\n"
   ]
  },
  {
   "cell_type": "code",
   "execution_count": 15,
   "id": "531a35ff",
   "metadata": {
    "scrolled": true
   },
   "outputs": [
    {
     "data": {
      "text/plain": [
       "mango         1\n",
       "blueberry     1\n",
       "blackberry    1\n",
       "gooseberry    1\n",
       "papaya        1\n",
       "dtype: int64"
      ]
     },
     "execution_count": 15,
     "metadata": {},
     "output_type": "execute_result"
    }
   ],
   "source": [
    "fruits_series.tail(5).value_counts()"
   ]
  },
  {
   "cell_type": "markdown",
   "id": "dccb1850",
   "metadata": {},
   "source": [
    "# Part II Exercises "
   ]
  },
  {
   "cell_type": "markdown",
   "id": "cd8713d4",
   "metadata": {},
   "source": [
    "1. Capitalize all the string values in fruits.\n"
   ]
  },
  {
   "cell_type": "code",
   "execution_count": 16,
   "id": "35fa0754",
   "metadata": {},
   "outputs": [
    {
     "data": {
      "text/plain": [
       "0                 Kiwi\n",
       "1                Mango\n",
       "2           Strawberry\n",
       "3            Pineapple\n",
       "4           Gala apple\n",
       "5     Honeycrisp apple\n",
       "6               Tomato\n",
       "7           Watermelon\n",
       "8             Honeydew\n",
       "9                 Kiwi\n",
       "10                Kiwi\n",
       "11                Kiwi\n",
       "12               Mango\n",
       "13           Blueberry\n",
       "14          Blackberry\n",
       "15          Gooseberry\n",
       "16              Papaya\n",
       "dtype: object"
      ]
     },
     "execution_count": 16,
     "metadata": {},
     "output_type": "execute_result"
    }
   ],
   "source": [
    "fruits_series.str.capitalize()"
   ]
  },
  {
   "cell_type": "markdown",
   "id": "927413d0",
   "metadata": {},
   "source": [
    "2. Count the letter \"a\" in all the string values (use string vectorization)."
   ]
  },
  {
   "cell_type": "code",
   "execution_count": 17,
   "id": "320522c2",
   "metadata": {},
   "outputs": [
    {
     "data": {
      "text/plain": [
       "0     0\n",
       "1     1\n",
       "2     1\n",
       "3     1\n",
       "4     3\n",
       "5     1\n",
       "6     1\n",
       "7     1\n",
       "8     0\n",
       "9     0\n",
       "10    0\n",
       "11    0\n",
       "12    1\n",
       "13    0\n",
       "14    1\n",
       "15    0\n",
       "16    3\n",
       "dtype: int64"
      ]
     },
     "execution_count": 17,
     "metadata": {},
     "output_type": "execute_result"
    }
   ],
   "source": [
    "bools = fruits_series.str.count('a')\n",
    "\n",
    "bools"
   ]
  },
  {
   "cell_type": "markdown",
   "id": "4f7c6b2e",
   "metadata": {},
   "source": [
    "3. Output the number of vowels in each and every string value.\n",
    "\n"
   ]
  },
  {
   "cell_type": "code",
   "execution_count": 18,
   "id": "3706ebf9",
   "metadata": {},
   "outputs": [
    {
     "data": {
      "text/plain": [
       "0     0\n",
       "1     0\n",
       "2     0\n",
       "3     0\n",
       "4     0\n",
       "5     0\n",
       "6     0\n",
       "7     0\n",
       "8     0\n",
       "9     0\n",
       "10    0\n",
       "11    0\n",
       "12    0\n",
       "13    0\n",
       "14    0\n",
       "15    0\n",
       "16    0\n",
       "dtype: int64"
      ]
     },
     "execution_count": 18,
     "metadata": {},
     "output_type": "execute_result"
    }
   ],
   "source": [
    "vowels= ['a','e','i','o','u']\n",
    "\n",
    "fruits_series.str.count('aeiou')"
   ]
  },
  {
   "cell_type": "markdown",
   "id": "223dde36",
   "metadata": {},
   "source": [
    "4. Write the code to get the longest string value from fruits.\n",
    "\n"
   ]
  },
  {
   "cell_type": "code",
   "execution_count": 20,
   "id": "f666e908",
   "metadata": {},
   "outputs": [
    {
     "ename": "AttributeError",
     "evalue": "'StringMethods' object has no attribute 'max'",
     "output_type": "error",
     "traceback": [
      "\u001b[0;31m---------------------------------------------------------------------------\u001b[0m",
      "\u001b[0;31mAttributeError\u001b[0m                            Traceback (most recent call last)",
      "Input \u001b[0;32mIn [20]\u001b[0m, in \u001b[0;36m<cell line: 1>\u001b[0;34m()\u001b[0m\n\u001b[0;32m----> 1\u001b[0m \u001b[43mfruits_series\u001b[49m\u001b[38;5;241;43m.\u001b[39;49m\u001b[43mstr\u001b[49m\u001b[38;5;241;43m.\u001b[39;49m\u001b[43mmax\u001b[49m()\n",
      "\u001b[0;31mAttributeError\u001b[0m: 'StringMethods' object has no attribute 'max'"
     ]
    }
   ],
   "source": [
    "fruits_series.str.max()"
   ]
  },
  {
   "cell_type": "markdown",
   "id": "c5c67602",
   "metadata": {},
   "source": [
    "5. Write the code to get the string values with 5 or more letters in the name."
   ]
  },
  {
   "cell_type": "code",
   "execution_count": 27,
   "id": "0cb1b936",
   "metadata": {},
   "outputs": [
    {
     "data": {
      "text/plain": [
       "1                mango\n",
       "2           strawberry\n",
       "3            pineapple\n",
       "4           gala apple\n",
       "5     honeycrisp apple\n",
       "6               tomato\n",
       "7           watermelon\n",
       "8             honeydew\n",
       "12               mango\n",
       "13           blueberry\n",
       "14          blackberry\n",
       "15          gooseberry\n",
       "16              papaya\n",
       "dtype: object"
      ]
     },
     "execution_count": 27,
     "metadata": {},
     "output_type": "execute_result"
    }
   ],
   "source": [
    "more_than_five = fruits_series.str.len() >= 5\n",
    "\n",
    "fruits_series[more_than_five]"
   ]
  },
  {
   "cell_type": "markdown",
   "id": "5528d74f",
   "metadata": {},
   "source": [
    "6. Find the fruit(s) containing the letter \"o\" two or more times.\n",
    "\n"
   ]
  },
  {
   "cell_type": "code",
   "execution_count": null,
   "id": "3ca32f72",
   "metadata": {},
   "outputs": [],
   "source": [
    "fruits_series.str.len() >= 5"
   ]
  },
  {
   "cell_type": "code",
   "execution_count": 29,
   "id": "b79ff65c",
   "metadata": {},
   "outputs": [
    {
     "data": {
      "text/plain": [
       "0     0\n",
       "1     1\n",
       "2     0\n",
       "3     0\n",
       "4     0\n",
       "5     1\n",
       "6     2\n",
       "7     1\n",
       "8     1\n",
       "9     0\n",
       "10    0\n",
       "11    0\n",
       "12    1\n",
       "13    0\n",
       "14    0\n",
       "15    2\n",
       "16    0\n",
       "dtype: int64"
      ]
     },
     "execution_count": 29,
     "metadata": {},
     "output_type": "execute_result"
    }
   ],
   "source": [
    "letter_o = fruits_series.str.count('o')\n",
    "\n"
   ]
  },
  {
   "cell_type": "markdown",
   "id": "e3f0a21e",
   "metadata": {},
   "source": [
    "7. Write the code to get only the string values containing the substring \"berry\"."
   ]
  },
  {
   "cell_type": "code",
   "execution_count": 22,
   "id": "be1b3227",
   "metadata": {
    "scrolled": true
   },
   "outputs": [
    {
     "data": {
      "text/plain": [
       "0     0\n",
       "1     1\n",
       "2     0\n",
       "3     0\n",
       "4     0\n",
       "5     1\n",
       "6     2\n",
       "7     1\n",
       "8     1\n",
       "9     0\n",
       "10    0\n",
       "11    0\n",
       "12    1\n",
       "13    0\n",
       "14    0\n",
       "15    2\n",
       "16    0\n",
       "dtype: int64"
      ]
     },
     "execution_count": 22,
     "metadata": {},
     "output_type": "execute_result"
    }
   ],
   "source": []
  },
  {
   "cell_type": "markdown",
   "id": "155b3f4b",
   "metadata": {},
   "source": [
    "8. Write the code to get only the string values containing the substring \"apple\".\n",
    "\n"
   ]
  },
  {
   "cell_type": "code",
   "execution_count": null,
   "id": "fe80c3ca",
   "metadata": {},
   "outputs": [],
   "source": []
  },
  {
   "cell_type": "markdown",
   "id": "55450609",
   "metadata": {},
   "source": [
    "9. Which string value contains the most vowels?\n",
    "\n"
   ]
  },
  {
   "cell_type": "code",
   "execution_count": null,
   "id": "21ee8d03",
   "metadata": {},
   "outputs": [],
   "source": []
  }
 ],
 "metadata": {
  "kernelspec": {
   "display_name": "Python 3 (ipykernel)",
   "language": "python",
   "name": "python3"
  },
  "language_info": {
   "codemirror_mode": {
    "name": "ipython",
    "version": 3
   },
   "file_extension": ".py",
   "mimetype": "text/x-python",
   "name": "python",
   "nbconvert_exporter": "python",
   "pygments_lexer": "ipython3",
   "version": "3.9.12"
  }
 },
 "nbformat": 4,
 "nbformat_minor": 5
}
