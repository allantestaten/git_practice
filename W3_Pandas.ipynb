{
 "cells": [
  {
   "cell_type": "markdown",
   "id": "da8a17d4",
   "metadata": {},
   "source": [
    "https://www.w3resource.com/python-exercises/pandas/index-data-series.php site for practice problems "
   ]
  },
  {
   "cell_type": "markdown",
   "id": "49df1b23",
   "metadata": {},
   "source": [
    "1. Write a Pandas program to create and display a one-dimensional array-like object containing an array of data using Pandas module."
   ]
  },
  {
   "cell_type": "code",
   "execution_count": null,
   "id": "09203d9a",
   "metadata": {},
   "outputs": [],
   "source": []
  }
 ],
 "metadata": {
  "kernelspec": {
   "display_name": "Python 3 (ipykernel)",
   "language": "python",
   "name": "python3"
  }
 },
 "nbformat": 4,
 "nbformat_minor": 5
}
