{
 "cells": [
  {
   "cell_type": "code",
   "execution_count": 11,
   "id": "4bc14490",
   "metadata": {},
   "outputs": [
    {
     "name": "stdout",
     "output_type": "stream",
     "text": [
      "1\n",
      "3\n",
      "5\n"
     ]
    }
   ],
   "source": [
    "#Access first three elements individually \n",
    "import numpy as np\n",
    "import pandas as pd\n",
    "\n",
    "array_a=[1,3,5,7,9]\n",
    "\n",
    "\n",
    "print(array_a[0])\n",
    "print(array_a[1])\n",
    "print(array_a[2])\n",
    "    \n"
   ]
  },
  {
   "cell_type": "markdown",
   "id": "e0bb8f56",
   "metadata": {},
   "source": [
    "Write a Python program to append a new item to the end of the array. Go to the editor\n",
    "Sample Output:\n",
    "Original array: array('i', [1, 3, 5, 7, 9])\n",
    "Append 11 at the end of the array:\n",
    "New array: array('i', [1, 3, 5, 7, 9, 11])"
   ]
  },
  {
   "cell_type": "code",
   "execution_count": 14,
   "id": "3d878cf6",
   "metadata": {},
   "outputs": [
    {
     "name": "stdout",
     "output_type": "stream",
     "text": [
      "[1, 3, 5, 7, 9, 11]\n"
     ]
    }
   ],
   "source": [
    "array_a=[1,3,5,7,9]\n",
    "\n",
    "array_b = array_a.append(11)\n",
    "    \n",
    "print(array_a)"
   ]
  },
  {
   "cell_type": "code",
   "execution_count": 19,
   "id": "14d34e30",
   "metadata": {},
   "outputs": [
    {
     "name": "stdout",
     "output_type": "stream",
     "text": [
      "[False False False False  True  True False False False  True False  True]\n"
     ]
    }
   ],
   "source": [
    "a = np.array([4, 10, 12, 23, -2, -1, 0, 0, 0, -6, 3, -7])\n",
    "negative_numbers = a < 0\n"
   ]
  },
  {
   "cell_type": "code",
   "execution_count": 17,
   "id": "33e2c288",
   "metadata": {},
   "outputs": [
    {
     "ename": "AttributeError",
     "evalue": "'numpy.ndarray' object has no attribute 'a'",
     "output_type": "error",
     "traceback": [
      "\u001b[0;31m---------------------------------------------------------------------------\u001b[0m",
      "\u001b[0;31mAttributeError\u001b[0m                            Traceback (most recent call last)",
      "Input \u001b[0;32mIn [17]\u001b[0m, in \u001b[0;36m<cell line: 1>\u001b[0;34m()\u001b[0m\n\u001b[0;32m----> 1\u001b[0m \u001b[43ma\u001b[49m\u001b[38;5;241;43m.\u001b[39;49m\u001b[43ma\u001b[49m[i \u001b[38;5;129;01min\u001b[39;00m a \u001b[38;5;241m>\u001b[39m \u001b[38;5;241m0\u001b[39m]\n",
      "\u001b[0;31mAttributeError\u001b[0m: 'numpy.ndarray' object has no attribute 'a'"
     ]
    }
   ],
   "source": []
  },
  {
   "cell_type": "code",
   "execution_count": null,
   "id": "4322672e",
   "metadata": {},
   "outputs": [],
   "source": []
  }
 ],
 "metadata": {
  "kernelspec": {
   "display_name": "Python 3 (ipykernel)",
   "language": "python",
   "name": "python3"
  },
  "language_info": {
   "codemirror_mode": {
    "name": "ipython",
    "version": 3
   },
   "file_extension": ".py",
   "mimetype": "text/x-python",
   "name": "python",
   "nbconvert_exporter": "python",
   "pygments_lexer": "ipython3",
   "version": "3.9.12"
  }
 },
 "nbformat": 4,
 "nbformat_minor": 5
}
